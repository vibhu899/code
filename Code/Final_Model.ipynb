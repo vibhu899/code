{
 "cells": [
  {
   "cell_type": "code",
   "execution_count": 1,
   "id": "32bdb4de",
   "metadata": {},
   "outputs": [],
   "source": [
    "import pandas as pd\n",
    "import pickle\n",
    "import os"
   ]
  },
  {
   "cell_type": "code",
   "execution_count": 2,
   "id": "dd5cd5a1",
   "metadata": {},
   "outputs": [],
   "source": [
    "from utils import haversine\n",
    "from utils import join_data, train_test,hervy_dist, minutes_convert, haversine,taxi_demand_cluster, predict_lat_long, plt_map"
   ]
  },
  {
   "cell_type": "code",
   "execution_count": 3,
   "id": "86f5de4b",
   "metadata": {},
   "outputs": [],
   "source": [
    "dst_folder = os.path.join(os.getcwd(),\"Processed_Data\")"
   ]
  },
  {
   "cell_type": "code",
   "execution_count": 4,
   "id": "2e7d4f75",
   "metadata": {},
   "outputs": [],
   "source": [
    "df = join_data(dst_folder)"
   ]
  },
  {
   "cell_type": "code",
   "execution_count": 5,
   "id": "4e345058",
   "metadata": {},
   "outputs": [],
   "source": [
    "df_model = pd.read_csv(\"Classical_ML_Models_test.csv\")"
   ]
  },
  {
   "cell_type": "code",
   "execution_count": 6,
   "id": "f8938368",
   "metadata": {},
   "outputs": [],
   "source": [
    "df_model.drop(\"Unnamed: 0\", axis=1, inplace=True)"
   ]
  },
  {
   "cell_type": "code",
   "execution_count": 7,
   "id": "75e8f055",
   "metadata": {},
   "outputs": [],
   "source": [
    "df_model.sort_values(by= \"Score\", inplace=True)"
   ]
  },
  {
   "cell_type": "code",
   "execution_count": 8,
   "id": "af67584f",
   "metadata": {},
   "outputs": [
    {
     "data": {
      "text/html": [
       "<div>\n",
       "<style scoped>\n",
       "    .dataframe tbody tr th:only-of-type {\n",
       "        vertical-align: middle;\n",
       "    }\n",
       "\n",
       "    .dataframe tbody tr th {\n",
       "        vertical-align: top;\n",
       "    }\n",
       "\n",
       "    .dataframe thead th {\n",
       "        text-align: right;\n",
       "    }\n",
       "</style>\n",
       "<table border=\"1\" class=\"dataframe\">\n",
       "  <thead>\n",
       "    <tr style=\"text-align: right;\">\n",
       "      <th></th>\n",
       "      <th>Model</th>\n",
       "      <th>Score</th>\n",
       "      <th>File_name</th>\n",
       "    </tr>\n",
       "  </thead>\n",
       "  <tbody>\n",
       "    <tr>\n",
       "      <th>4</th>\n",
       "      <td>XGB</td>\n",
       "      <td>1890.300460</td>\n",
       "      <td>finalized_model_XGB.sav</td>\n",
       "    </tr>\n",
       "    <tr>\n",
       "      <th>3</th>\n",
       "      <td>Random_Forest</td>\n",
       "      <td>1897.904023</td>\n",
       "      <td>finalized_model_random_forest.sav</td>\n",
       "    </tr>\n",
       "    <tr>\n",
       "      <th>0</th>\n",
       "      <td>Linear_Regression</td>\n",
       "      <td>2240.509841</td>\n",
       "      <td>finalized_linear.sav</td>\n",
       "    </tr>\n",
       "    <tr>\n",
       "      <th>2</th>\n",
       "      <td>Decision_tree</td>\n",
       "      <td>2336.103194</td>\n",
       "      <td>finalized_model_decision_tree.sav</td>\n",
       "    </tr>\n",
       "    <tr>\n",
       "      <th>5</th>\n",
       "      <td>XGBF</td>\n",
       "      <td>2355.207638</td>\n",
       "      <td>finalized_model_random_forest.sav</td>\n",
       "    </tr>\n",
       "    <tr>\n",
       "      <th>1</th>\n",
       "      <td>KNN</td>\n",
       "      <td>2630.195285</td>\n",
       "      <td>finalized_model_knn.sav</td>\n",
       "    </tr>\n",
       "  </tbody>\n",
       "</table>\n",
       "</div>"
      ],
      "text/plain": [
       "               Model        Score                          File_name\n",
       "4                XGB  1890.300460            finalized_model_XGB.sav\n",
       "3      Random_Forest  1897.904023  finalized_model_random_forest.sav\n",
       "0  Linear_Regression  2240.509841               finalized_linear.sav\n",
       "2      Decision_tree  2336.103194  finalized_model_decision_tree.sav\n",
       "5               XGBF  2355.207638  finalized_model_random_forest.sav\n",
       "1                KNN  2630.195285            finalized_model_knn.sav"
      ]
     },
     "execution_count": 8,
     "metadata": {},
     "output_type": "execute_result"
    }
   ],
   "source": [
    "df_model"
   ]
  },
  {
   "cell_type": "code",
   "execution_count": 9,
   "id": "753be66d",
   "metadata": {},
   "outputs": [],
   "source": [
    "filename = df_model.iloc[0][\"File_name\"]"
   ]
  },
  {
   "cell_type": "code",
   "execution_count": 10,
   "id": "d89aea4c",
   "metadata": {},
   "outputs": [],
   "source": [
    "df_test  = pd.read_csv(\"Test_Data.csv\")\n",
    "test_data = df_test.copy()"
   ]
  },
  {
   "cell_type": "code",
   "execution_count": 11,
   "id": "1e646bad",
   "metadata": {},
   "outputs": [],
   "source": [
    "model = pickle.load(open(filename, 'rb'))\n",
    "scaler = pickle.load(open('scaler.pkl','rb'))"
   ]
  },
  {
   "cell_type": "code",
   "execution_count": 16,
   "id": "d470b8cd",
   "metadata": {},
   "outputs": [],
   "source": [
    "def closest_prediction(df,df_test,model,index, scaler):\n",
    "    df_test.drop(\"Unnamed: 0\",axis=1, inplace=True)\n",
    "    test_data = df_test.copy()\n",
    "    df_test[\"Latitude\"] = df_test[\"Latitude\"]/90\n",
    "    df_test[\"Longitude\"] = df_test[\"Longitude\"]/180\n",
    "    df_test[['Hour', 'Day', 'Minutes_Identifier']] = scaler.fit_transform(df_test[['Hour', 'Day', 'Minutes_Identifier']])\n",
    "    test_lat = df_test.iloc[[index]]\n",
    "    pred = model.predict(test_lat)\n",
    "    distance_to_prediction = haversine(list(pred[0]),list(test_data[[\"Latitude\",\"Longitude\"]].iloc[[index]].values[0]))\n",
    "    df_cluster, df_centroids = taxi_demand_cluster(df,test_data.iloc[index][\"Hour\"], test_data.iloc[index][\"Minutes_Identifier\"],test_data.iloc[index][\"Day\"], 300, 20)\n",
    "    dfc, df_label = predict_lat_long(list(test_data[[\"Latitude\",\"Longitude\"]].iloc[[0]].values[0]), df_centroids)\n",
    "    if dfc.iloc[0][\"Distance\"] <=distance_to_prediction:\n",
    "        prediciton = (dfc[[\"Latitude_1\",\"Longitude_1\"]].iloc[[0]])\n",
    "    else:\n",
    "        prediciton = (list(pred[0]))\n",
    "    return(prediciton, dfc, distance_to_prediction)"
   ]
  },
  {
   "cell_type": "code",
   "execution_count": 17,
   "id": "40a90222",
   "metadata": {},
   "outputs": [
    {
     "data": {
      "text/plain": [
       "(   Latitude_1  Longitude_1\n",
       " 1   37.787651  -122.411982,\n",
       "    Latitude_1  Longitude_1     Distance\n",
       " 1   37.787651  -122.411982    11.247471\n",
       " 3   37.798034  -122.407090  1231.461711\n",
       " 2   37.799196  -122.436135  2491.270064\n",
       " 0   37.757384  -122.420285  3442.711457,\n",
       " 3169.1050889110093)"
      ]
     },
     "execution_count": 17,
     "metadata": {},
     "output_type": "execute_result"
    }
   ],
   "source": [
    "closest_prediction(df.copy(),df_test.copy(), model, 2, scaler)"
   ]
  },
  {
   "cell_type": "code",
   "execution_count": null,
   "id": "76e12a08",
   "metadata": {},
   "outputs": [],
   "source": []
  },
  {
   "cell_type": "code",
   "execution_count": null,
   "id": "42a3f639",
   "metadata": {},
   "outputs": [],
   "source": []
  }
 ],
 "metadata": {
  "kernelspec": {
   "display_name": "Python 3 (ipykernel)",
   "language": "python",
   "name": "python3"
  },
  "language_info": {
   "codemirror_mode": {
    "name": "ipython",
    "version": 3
   },
   "file_extension": ".py",
   "mimetype": "text/x-python",
   "name": "python",
   "nbconvert_exporter": "python",
   "pygments_lexer": "ipython3",
   "version": "3.7.11"
  }
 },
 "nbformat": 4,
 "nbformat_minor": 5
}
