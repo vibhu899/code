{
 "cells": [
  {
   "cell_type": "code",
   "execution_count": 1,
   "id": "17dd4681",
   "metadata": {},
   "outputs": [],
   "source": [
    "import pandas as pd\n",
    "from keras.models import Sequential\n",
    "from keras.layers import Dense,Dropout\n",
    "import tensorflow as tf \n",
    "from keras.callbacks import  ReduceLROnPlateau\n",
    "from tensorflow.keras.utils import plot_model"
   ]
  },
  {
   "cell_type": "code",
   "execution_count": 2,
   "id": "322b4d6b",
   "metadata": {},
   "outputs": [],
   "source": [
    "from utils import join_data, train_test,hervy_dist"
   ]
  },
  {
   "cell_type": "code",
   "execution_count": 3,
   "id": "18720e0a",
   "metadata": {},
   "outputs": [],
   "source": [
    "dst_folder = \"C:\\\\Users\\\\Reset me please\\\\Desktop\\\\PMI\\\\Processed_Data1\\\\\""
   ]
  },
  {
   "cell_type": "code",
   "execution_count": 4,
   "id": "a3666a4b",
   "metadata": {},
   "outputs": [],
   "source": [
    "df = join_data(dst_folder)"
   ]
  },
  {
   "cell_type": "code",
   "execution_count": 5,
   "id": "536634dd",
   "metadata": {},
   "outputs": [],
   "source": [
    "X_train, X_test, y_train, y_test = train_test(df, 0.1)"
   ]
  },
  {
   "cell_type": "code",
   "execution_count": 6,
   "id": "7bd21536",
   "metadata": {},
   "outputs": [],
   "source": [
    "# y_train =y_train.reindex(columns=[\"Longitude_1\",\"Latitude_1\"])\n",
    "# y_test =y_test.reindex(columns=[\"Longitude_1\",\"Latitude_1\"])"
   ]
  },
  {
   "cell_type": "code",
   "execution_count": 7,
   "id": "d879b841",
   "metadata": {},
   "outputs": [],
   "source": [
    "RADIUS_KM = 6378.1\n",
    "\n",
    "def degrees_to_radians(deg):\n",
    "    pi_on_180 = 0.017453292519943295\n",
    "    return deg * pi_on_180\n",
    "\n",
    "def loss_haversine(observation, prediction):\n",
    "    # print(observation)\n",
    "    obv_rad = tf.map_fn(degrees_to_radians, observation)\n",
    "    prev_rad = tf.map_fn(degrees_to_radians, prediction)\n",
    "\n",
    "    dlon_dlat = obv_rad - prev_rad \n",
    "    v = dlon_dlat / 2\n",
    "    v = tf.sin(v)\n",
    "    v = v**2\n",
    "\n",
    "    a = v[:,1] + tf.cos(obv_rad[:,1]) * tf.cos(prev_rad[:,1]) * v[:,0] \n",
    "\n",
    "    c = tf.sqrt(a)\n",
    "    c = 2* tf.math.asin(c)\n",
    "    c = c*RADIUS_KM\n",
    "    final = tf.reduce_sum(c)\n",
    "\n",
    "    #if you're interested in having MAE with the haversine distance in KM\n",
    "    #uncomment the following line\n",
    "#     final = final/tf.dtypes.cast(tf.shape(observation)[0], dtype= tf.float32)\n",
    "\n",
    "    return final"
   ]
  },
  {
   "cell_type": "code",
   "execution_count": 8,
   "id": "6997038b",
   "metadata": {},
   "outputs": [],
   "source": [
    "def get_model(n_inputs, n_outputs, dropout_rate,training):    \n",
    "    inputs = tf.keras.layers.Input(shape=(n_inputs,))\n",
    "    # x = tf.keras.layers.Dropout(rate=dropout_rate)(inputs, training=training)\n",
    "    x = tf.keras.layers.Dense(units=5, activation='relu')(inputs)\n",
    "#     x = tf.keras.layers.Dropout(rate=dropout_rate)(x, training=training)  \n",
    "    x = tf.keras.layers.Dense(units=5, activation='relu')(x)\n",
    "    x = tf.keras.layers.Dropout(rate=dropout_rate)(x, training=training)\n",
    "    x = tf.keras.layers.Dense(units=2, activation='relu')(x)\n",
    "    outputs = tf.keras.layers.Dense(2)(x)\n",
    "    model = tf.keras.Model(inputs=inputs, outputs=outputs)\n",
    "#     model.compile(optimizer='adam',\n",
    "#                       loss=loss_haversine)\n",
    "    optimizer = tf.keras.optimizers.Adam(learning_rate=.00001)\n",
    "    model.compile(optimizer=optimizer,\n",
    "                      loss=loss_haversine)\n",
    "    return model"
   ]
  },
  {
   "cell_type": "code",
   "execution_count": 9,
   "id": "6d72b839",
   "metadata": {},
   "outputs": [
    {
     "name": "stdout",
     "output_type": "stream",
     "text": [
      "Num GPUs Available:  1\n"
     ]
    }
   ],
   "source": [
    "print(\"Num GPUs Available: \", len(tf.config.list_physical_devices('GPU')))"
   ]
  },
  {
   "cell_type": "code",
   "execution_count": 10,
   "id": "d2830f5b",
   "metadata": {},
   "outputs": [],
   "source": [
    "reduce_lr = ReduceLROnPlateau(monitor='loss', factor=.1,\n",
    "                              patience=4, min_lr=0.0000000000000000000001, min_delta=100)"
   ]
  },
  {
   "cell_type": "code",
   "execution_count": 11,
   "id": "24178f9b",
   "metadata": {},
   "outputs": [],
   "source": [
    "model = get_model(X_train.shape[1],  y_train.shape[1],.1, True)"
   ]
  },
  {
   "cell_type": "code",
   "execution_count": 12,
   "id": "b352f20c",
   "metadata": {},
   "outputs": [
    {
     "data": {
      "image/png": "[encoded data removed]",
      "text/plain": [
       "<IPython.core.display.Image object>"
      ]
     },
     "execution_count": 12,
     "metadata": {},
     "output_type": "execute_result"
    }
   ],
   "source": [
    "\n",
    "plot_model(model, to_file='model_plot.png', show_shapes=True, show_layer_names=True)"
   ]
  },
  {
   "cell_type": "code",
   "execution_count": 13,
   "id": "b945e85e",
   "metadata": {},
   "outputs": [
    {
     "name": "stdout",
     "output_type": "stream",
     "text": [
      "Epoch 1/400\n",
      "822/822 [==============================] - 303s 367ms/step - loss: 6403441.0000 - lr: 1.0000e-05\n",
      "Epoch 2/400\n",
      "822/822 [==============================] - 308s 374ms/step - loss: 6402466.5000 - lr: 1.0000e-05\n",
      "Epoch 3/400\n",
      "822/822 [==============================] - 304s 370ms/step - loss: 6401694.0000 - lr: 1.0000e-05\n",
      "Epoch 4/400\n",
      "822/822 [==============================] - 282s 343ms/step - loss: 6401025.5000 - lr: 1.0000e-05\n",
      "Epoch 5/400\n",
      "822/822 [==============================] - 307s 374ms/step - loss: 6400372.5000 - lr: 1.0000e-05\n",
      "Epoch 6/400\n",
      "822/822 [==============================] - 307s 373ms/step - loss: 6399747.5000 - lr: 1.0000e-05\n",
      "Epoch 7/400\n",
      "822/822 [==============================] - 305s 371ms/step - loss: 6399150.5000 - lr: 1.0000e-05\n",
      "Epoch 8/400\n",
      "822/822 [==============================] - 306s 372ms/step - loss: 6398572.5000 - lr: 1.0000e-05\n",
      "Epoch 9/400\n",
      "822/822 [==============================] - 302s 368ms/step - loss: 6397988.5000 - lr: 1.0000e-05\n",
      "Epoch 10/400\n",
      "822/822 [==============================] - 307s 374ms/step - loss: 6397406.5000 - lr: 1.0000e-05\n",
      "Epoch 11/400\n",
      "822/822 [==============================] - 304s 370ms/step - loss: 6396817.5000 - lr: 1.0000e-05\n",
      "Epoch 12/400\n",
      "822/822 [==============================] - 304s 370ms/step - loss: 6396216.5000 - lr: 1.0000e-05\n",
      "Epoch 13/400\n",
      "822/822 [==============================] - 299s 364ms/step - loss: 6395596.0000 - lr: 1.0000e-05\n",
      "Epoch 14/400\n",
      "822/822 [==============================] - 281s 341ms/step - loss: 6394995.5000 - lr: 1.0000e-05\n",
      "Epoch 15/400\n",
      "822/822 [==============================] - 300s 365ms/step - loss: 6394414.5000 - lr: 1.0000e-05\n",
      "Epoch 16/400\n",
      "822/822 [==============================] - 291s 354ms/step - loss: 6393833.5000 - lr: 1.0000e-05\n",
      "Epoch 17/400\n",
      "822/822 [==============================] - 283s 345ms/step - loss: 6393251.5000 - lr: 1.0000e-05\n",
      "Epoch 18/400\n",
      "822/822 [==============================] - 276s 336ms/step - loss: 6392669.5000 - lr: 1.0000e-05\n",
      "Epoch 19/400\n",
      "822/822 [==============================] - 299s 363ms/step - loss: 6392080.5000 - lr: 1.0000e-05\n",
      "Epoch 20/400\n",
      "822/822 [==============================] - 310s 377ms/step - loss: 6391474.5000 - lr: 1.0000e-05\n",
      "Epoch 21/400\n",
      "822/822 [==============================] - 296s 360ms/step - loss: 6390854.5000 - lr: 1.0000e-05\n",
      "Epoch 22/400\n",
      "822/822 [==============================] - 302s 367ms/step - loss: 6390262.0000 - lr: 1.0000e-05\n",
      "Epoch 23/400\n",
      "822/822 [==============================] - 304s 370ms/step - loss: 6389680.0000 - lr: 1.0000e-05\n",
      "Epoch 24/400\n",
      "822/822 [==============================] - 305s 371ms/step - loss: 6389101.5000 - lr: 1.0000e-05\n",
      "Epoch 25/400\n",
      "822/822 [==============================] - 304s 370ms/step - loss: 6388516.0000 - lr: 1.0000e-05\n",
      "Epoch 26/400\n",
      "822/822 [==============================] - 302s 367ms/step - loss: 6387936.5000 - lr: 1.0000e-05\n",
      "Epoch 27/400\n",
      "822/822 [==============================] - 304s 370ms/step - loss: 6387338.5000 - lr: 1.0000e-05\n",
      "Epoch 28/400\n",
      "822/822 [==============================] - 296s 360ms/step - loss: 6386727.5000 - lr: 1.0000e-05\n",
      "Epoch 29/400\n",
      "822/822 [==============================] - 302s 367ms/step - loss: 6386113.0000 - lr: 1.0000e-05\n",
      "Epoch 30/400\n",
      "822/822 [==============================] - 295s 359ms/step - loss: 6385526.0000 - lr: 1.0000e-05\n",
      "Epoch 31/400\n",
      "822/822 [==============================] - 303s 368ms/step - loss: 6384946.5000 - lr: 1.0000e-05\n",
      "Epoch 32/400\n",
      "822/822 [==============================] - 310s 377ms/step - loss: 6384366.5000 - lr: 1.0000e-05\n",
      "Epoch 33/400\n",
      "822/822 [==============================] - 291s 353ms/step - loss: 6383780.5000 - lr: 1.0000e-05\n",
      "Epoch 34/400\n",
      "822/822 [==============================] - 303s 369ms/step - loss: 6383198.5000 - lr: 1.0000e-05\n",
      "Epoch 35/400\n",
      "822/822 [==============================] - 277s 337ms/step - loss: 6382594.5000 - lr: 1.0000e-05\n",
      "Epoch 36/400\n",
      "822/822 [==============================] - 274s 334ms/step - loss: 6381979.0000 - lr: 1.0000e-05\n",
      "Epoch 37/400\n",
      "822/822 [==============================] - 275s 335ms/step - loss: 6381372.0000 - lr: 1.0000e-05\n",
      "Epoch 38/400\n",
      "822/822 [==============================] - 304s 369ms/step - loss: 6380790.0000 - lr: 1.0000e-05\n",
      "Epoch 39/400\n",
      "822/822 [==============================] - 295s 359ms/step - loss: 6380206.0000 - lr: 1.0000e-05\n",
      "Epoch 40/400\n",
      "822/822 [==============================] - 292s 355ms/step - loss: 6379626.0000 - lr: 1.0000e-05\n",
      "Epoch 41/400\n",
      "822/822 [==============================] - 300s 365ms/step - loss: 6379041.5000 - lr: 1.0000e-05\n",
      "Epoch 42/400\n",
      "353/822 [===========>..................] - ETA: 2:58 - loss: 6380287.0000"
     ]
    },
    {
     "ename": "KeyboardInterrupt",
     "evalue": "",
     "output_type": "error",
     "traceback": [
      "\u001b[1;31m---------------------------------------------------------------------------\u001b[0m",
      "\u001b[1;31mKeyboardInterrupt\u001b[0m                         Traceback (most recent call last)",
      "\u001b[1;32m~\\AppData\\Local\\Temp\\ipykernel_6052\\1839820603.py\u001b[0m in \u001b[0;36m<module>\u001b[1;34m\u001b[0m\n\u001b[1;32m----> 1\u001b[1;33m \u001b[0mmodel\u001b[0m\u001b[1;33m.\u001b[0m\u001b[0mfit\u001b[0m\u001b[1;33m(\u001b[0m\u001b[0mX_train\u001b[0m\u001b[1;33m,\u001b[0m\u001b[0my_train\u001b[0m\u001b[1;33m,\u001b[0m\u001b[0mepochs\u001b[0m\u001b[1;33m=\u001b[0m\u001b[1;36m400\u001b[0m\u001b[1;33m,\u001b[0m\u001b[0mbatch_size\u001b[0m\u001b[1;33m=\u001b[0m\u001b[1;36m500\u001b[0m\u001b[1;33m,\u001b[0m \u001b[0mverbose\u001b[0m\u001b[1;33m=\u001b[0m\u001b[1;36m1\u001b[0m\u001b[1;33m,\u001b[0m\u001b[0mcallbacks\u001b[0m\u001b[1;33m=\u001b[0m\u001b[1;33m[\u001b[0m\u001b[0mreduce_lr\u001b[0m\u001b[1;33m]\u001b[0m\u001b[1;33m)\u001b[0m\u001b[1;33m\u001b[0m\u001b[1;33m\u001b[0m\u001b[0m\n\u001b[0m",
      "\u001b[1;32mC:\\Vibhu\\Python_Anaconda\\envs\\py37\\lib\\site-packages\\keras\\utils\\traceback_utils.py\u001b[0m in \u001b[0;36merror_handler\u001b[1;34m(*args, **kwargs)\u001b[0m\n\u001b[0;32m     62\u001b[0m     \u001b[0mfiltered_tb\u001b[0m \u001b[1;33m=\u001b[0m \u001b[1;32mNone\u001b[0m\u001b[1;33m\u001b[0m\u001b[1;33m\u001b[0m\u001b[0m\n\u001b[0;32m     63\u001b[0m     \u001b[1;32mtry\u001b[0m\u001b[1;33m:\u001b[0m\u001b[1;33m\u001b[0m\u001b[1;33m\u001b[0m\u001b[0m\n\u001b[1;32m---> 64\u001b[1;33m       \u001b[1;32mreturn\u001b[0m \u001b[0mfn\u001b[0m\u001b[1;33m(\u001b[0m\u001b[1;33m*\u001b[0m\u001b[0margs\u001b[0m\u001b[1;33m,\u001b[0m \u001b[1;33m**\u001b[0m\u001b[0mkwargs\u001b[0m\u001b[1;33m)\u001b[0m\u001b[1;33m\u001b[0m\u001b[1;33m\u001b[0m\u001b[0m\n\u001b[0m\u001b[0;32m     65\u001b[0m     \u001b[1;32mexcept\u001b[0m \u001b[0mException\u001b[0m \u001b[1;32mas\u001b[0m \u001b[0me\u001b[0m\u001b[1;33m:\u001b[0m  \u001b[1;31m# pylint: disable=broad-except\u001b[0m\u001b[1;33m\u001b[0m\u001b[1;33m\u001b[0m\u001b[0m\n\u001b[0;32m     66\u001b[0m       \u001b[0mfiltered_tb\u001b[0m \u001b[1;33m=\u001b[0m \u001b[0m_process_traceback_frames\u001b[0m\u001b[1;33m(\u001b[0m\u001b[0me\u001b[0m\u001b[1;33m.\u001b[0m\u001b[0m__traceback__\u001b[0m\u001b[1;33m)\u001b[0m\u001b[1;33m\u001b[0m\u001b[1;33m\u001b[0m\u001b[0m\n",
      "\u001b[1;32mC:\\Vibhu\\Python_Anaconda\\envs\\py37\\lib\\site-packages\\keras\\engine\\training.py\u001b[0m in \u001b[0;36mfit\u001b[1;34m(self, x, y, batch_size, epochs, verbose, callbacks, validation_split, validation_data, shuffle, class_weight, sample_weight, initial_epoch, steps_per_epoch, validation_steps, validation_batch_size, validation_freq, max_queue_size, workers, use_multiprocessing)\u001b[0m\n\u001b[0;32m   1407\u001b[0m                 _r=1):\n\u001b[0;32m   1408\u001b[0m               \u001b[0mcallbacks\u001b[0m\u001b[1;33m.\u001b[0m\u001b[0mon_train_batch_begin\u001b[0m\u001b[1;33m(\u001b[0m\u001b[0mstep\u001b[0m\u001b[1;33m)\u001b[0m\u001b[1;33m\u001b[0m\u001b[1;33m\u001b[0m\u001b[0m\n\u001b[1;32m-> 1409\u001b[1;33m               \u001b[0mtmp_logs\u001b[0m \u001b[1;33m=\u001b[0m \u001b[0mself\u001b[0m\u001b[1;33m.\u001b[0m\u001b[0mtrain_function\u001b[0m\u001b[1;33m(\u001b[0m\u001b[0miterator\u001b[0m\u001b[1;33m)\u001b[0m\u001b[1;33m\u001b[0m\u001b[1;33m\u001b[0m\u001b[0m\n\u001b[0m\u001b[0;32m   1410\u001b[0m               \u001b[1;32mif\u001b[0m \u001b[0mdata_handler\u001b[0m\u001b[1;33m.\u001b[0m\u001b[0mshould_sync\u001b[0m\u001b[1;33m:\u001b[0m\u001b[1;33m\u001b[0m\u001b[1;33m\u001b[0m\u001b[0m\n\u001b[0;32m   1411\u001b[0m                 \u001b[0mcontext\u001b[0m\u001b[1;33m.\u001b[0m\u001b[0masync_wait\u001b[0m\u001b[1;33m(\u001b[0m\u001b[1;33m)\u001b[0m\u001b[1;33m\u001b[0m\u001b[1;33m\u001b[0m\u001b[0m\n",
      "\u001b[1;32mC:\\Vibhu\\Python_Anaconda\\envs\\py37\\lib\\site-packages\\tensorflow\\python\\util\\traceback_utils.py\u001b[0m in \u001b[0;36merror_handler\u001b[1;34m(*args, **kwargs)\u001b[0m\n\u001b[0;32m    148\u001b[0m     \u001b[0mfiltered_tb\u001b[0m \u001b[1;33m=\u001b[0m \u001b[1;32mNone\u001b[0m\u001b[1;33m\u001b[0m\u001b[1;33m\u001b[0m\u001b[0m\n\u001b[0;32m    149\u001b[0m     \u001b[1;32mtry\u001b[0m\u001b[1;33m:\u001b[0m\u001b[1;33m\u001b[0m\u001b[1;33m\u001b[0m\u001b[0m\n\u001b[1;32m--> 150\u001b[1;33m       \u001b[1;32mreturn\u001b[0m \u001b[0mfn\u001b[0m\u001b[1;33m(\u001b[0m\u001b[1;33m*\u001b[0m\u001b[0margs\u001b[0m\u001b[1;33m,\u001b[0m \u001b[1;33m**\u001b[0m\u001b[0mkwargs\u001b[0m\u001b[1;33m)\u001b[0m\u001b[1;33m\u001b[0m\u001b[1;33m\u001b[0m\u001b[0m\n\u001b[0m\u001b[0;32m    151\u001b[0m     \u001b[1;32mexcept\u001b[0m \u001b[0mException\u001b[0m \u001b[1;32mas\u001b[0m \u001b[0me\u001b[0m\u001b[1;33m:\u001b[0m\u001b[1;33m\u001b[0m\u001b[1;33m\u001b[0m\u001b[0m\n\u001b[0;32m    152\u001b[0m       \u001b[0mfiltered_tb\u001b[0m \u001b[1;33m=\u001b[0m \u001b[0m_process_traceback_frames\u001b[0m\u001b[1;33m(\u001b[0m\u001b[0me\u001b[0m\u001b[1;33m.\u001b[0m\u001b[0m__traceback__\u001b[0m\u001b[1;33m)\u001b[0m\u001b[1;33m\u001b[0m\u001b[1;33m\u001b[0m\u001b[0m\n",
      "\u001b[1;32mC:\\Vibhu\\Python_Anaconda\\envs\\py37\\lib\\site-packages\\tensorflow\\python\\eager\\def_function.py\u001b[0m in \u001b[0;36m__call__\u001b[1;34m(self, *args, **kwds)\u001b[0m\n\u001b[0;32m    913\u001b[0m \u001b[1;33m\u001b[0m\u001b[0m\n\u001b[0;32m    914\u001b[0m       \u001b[1;32mwith\u001b[0m \u001b[0mOptionalXlaContext\u001b[0m\u001b[1;33m(\u001b[0m\u001b[0mself\u001b[0m\u001b[1;33m.\u001b[0m\u001b[0m_jit_compile\u001b[0m\u001b[1;33m)\u001b[0m\u001b[1;33m:\u001b[0m\u001b[1;33m\u001b[0m\u001b[1;33m\u001b[0m\u001b[0m\n\u001b[1;32m--> 915\u001b[1;33m         \u001b[0mresult\u001b[0m \u001b[1;33m=\u001b[0m \u001b[0mself\u001b[0m\u001b[1;33m.\u001b[0m\u001b[0m_call\u001b[0m\u001b[1;33m(\u001b[0m\u001b[1;33m*\u001b[0m\u001b[0margs\u001b[0m\u001b[1;33m,\u001b[0m \u001b[1;33m**\u001b[0m\u001b[0mkwds\u001b[0m\u001b[1;33m)\u001b[0m\u001b[1;33m\u001b[0m\u001b[1;33m\u001b[0m\u001b[0m\n\u001b[0m\u001b[0;32m    916\u001b[0m \u001b[1;33m\u001b[0m\u001b[0m\n\u001b[0;32m    917\u001b[0m       \u001b[0mnew_tracing_count\u001b[0m \u001b[1;33m=\u001b[0m \u001b[0mself\u001b[0m\u001b[1;33m.\u001b[0m\u001b[0mexperimental_get_tracing_count\u001b[0m\u001b[1;33m(\u001b[0m\u001b[1;33m)\u001b[0m\u001b[1;33m\u001b[0m\u001b[1;33m\u001b[0m\u001b[0m\n",
      "\u001b[1;32mC:\\Vibhu\\Python_Anaconda\\envs\\py37\\lib\\site-packages\\tensorflow\\python\\eager\\def_function.py\u001b[0m in \u001b[0;36m_call\u001b[1;34m(self, *args, **kwds)\u001b[0m\n\u001b[0;32m    945\u001b[0m       \u001b[1;31m# In this case we have created variables on the first call, so we run the\u001b[0m\u001b[1;33m\u001b[0m\u001b[1;33m\u001b[0m\u001b[1;33m\u001b[0m\u001b[0m\n\u001b[0;32m    946\u001b[0m       \u001b[1;31m# defunned version which is guaranteed to never create variables.\u001b[0m\u001b[1;33m\u001b[0m\u001b[1;33m\u001b[0m\u001b[1;33m\u001b[0m\u001b[0m\n\u001b[1;32m--> 947\u001b[1;33m       \u001b[1;32mreturn\u001b[0m \u001b[0mself\u001b[0m\u001b[1;33m.\u001b[0m\u001b[0m_stateless_fn\u001b[0m\u001b[1;33m(\u001b[0m\u001b[1;33m*\u001b[0m\u001b[0margs\u001b[0m\u001b[1;33m,\u001b[0m \u001b[1;33m**\u001b[0m\u001b[0mkwds\u001b[0m\u001b[1;33m)\u001b[0m  \u001b[1;31m# pylint: disable=not-callable\u001b[0m\u001b[1;33m\u001b[0m\u001b[1;33m\u001b[0m\u001b[0m\n\u001b[0m\u001b[0;32m    948\u001b[0m     \u001b[1;32melif\u001b[0m \u001b[0mself\u001b[0m\u001b[1;33m.\u001b[0m\u001b[0m_stateful_fn\u001b[0m \u001b[1;32mis\u001b[0m \u001b[1;32mnot\u001b[0m \u001b[1;32mNone\u001b[0m\u001b[1;33m:\u001b[0m\u001b[1;33m\u001b[0m\u001b[1;33m\u001b[0m\u001b[0m\n\u001b[0;32m    949\u001b[0m       \u001b[1;31m# Release the lock early so that multiple threads can perform the call\u001b[0m\u001b[1;33m\u001b[0m\u001b[1;33m\u001b[0m\u001b[1;33m\u001b[0m\u001b[0m\n",
      "\u001b[1;32mC:\\Vibhu\\Python_Anaconda\\envs\\py37\\lib\\site-packages\\tensorflow\\python\\eager\\function.py\u001b[0m in \u001b[0;36m__call__\u001b[1;34m(self, *args, **kwargs)\u001b[0m\n\u001b[0;32m   2452\u001b[0m        filtered_flat_args) = self._maybe_define_function(args, kwargs)\n\u001b[0;32m   2453\u001b[0m     return graph_function._call_flat(\n\u001b[1;32m-> 2454\u001b[1;33m         filtered_flat_args, captured_inputs=graph_function.captured_inputs)  # pylint: disable=protected-access\n\u001b[0m\u001b[0;32m   2455\u001b[0m \u001b[1;33m\u001b[0m\u001b[0m\n\u001b[0;32m   2456\u001b[0m   \u001b[1;33m@\u001b[0m\u001b[0mproperty\u001b[0m\u001b[1;33m\u001b[0m\u001b[1;33m\u001b[0m\u001b[0m\n",
      "\u001b[1;32mC:\\Vibhu\\Python_Anaconda\\envs\\py37\\lib\\site-packages\\tensorflow\\python\\eager\\function.py\u001b[0m in \u001b[0;36m_call_flat\u001b[1;34m(self, args, captured_inputs, cancellation_manager)\u001b[0m\n\u001b[0;32m   1859\u001b[0m       \u001b[1;31m# No tape is watching; skip to running the function.\u001b[0m\u001b[1;33m\u001b[0m\u001b[1;33m\u001b[0m\u001b[1;33m\u001b[0m\u001b[0m\n\u001b[0;32m   1860\u001b[0m       return self._build_call_outputs(self._inference_function.call(\n\u001b[1;32m-> 1861\u001b[1;33m           ctx, args, cancellation_manager=cancellation_manager))\n\u001b[0m\u001b[0;32m   1862\u001b[0m     forward_backward = self._select_forward_and_backward_functions(\n\u001b[0;32m   1863\u001b[0m         \u001b[0margs\u001b[0m\u001b[1;33m,\u001b[0m\u001b[1;33m\u001b[0m\u001b[1;33m\u001b[0m\u001b[0m\n",
      "\u001b[1;32mC:\\Vibhu\\Python_Anaconda\\envs\\py37\\lib\\site-packages\\tensorflow\\python\\eager\\function.py\u001b[0m in \u001b[0;36mcall\u001b[1;34m(self, ctx, args, cancellation_manager)\u001b[0m\n\u001b[0;32m    500\u001b[0m               \u001b[0minputs\u001b[0m\u001b[1;33m=\u001b[0m\u001b[0margs\u001b[0m\u001b[1;33m,\u001b[0m\u001b[1;33m\u001b[0m\u001b[1;33m\u001b[0m\u001b[0m\n\u001b[0;32m    501\u001b[0m               \u001b[0mattrs\u001b[0m\u001b[1;33m=\u001b[0m\u001b[0mattrs\u001b[0m\u001b[1;33m,\u001b[0m\u001b[1;33m\u001b[0m\u001b[1;33m\u001b[0m\u001b[0m\n\u001b[1;32m--> 502\u001b[1;33m               ctx=ctx)\n\u001b[0m\u001b[0;32m    503\u001b[0m         \u001b[1;32melse\u001b[0m\u001b[1;33m:\u001b[0m\u001b[1;33m\u001b[0m\u001b[1;33m\u001b[0m\u001b[0m\n\u001b[0;32m    504\u001b[0m           outputs = execute.execute_with_cancellation(\n",
      "\u001b[1;32mC:\\Vibhu\\Python_Anaconda\\envs\\py37\\lib\\site-packages\\tensorflow\\python\\eager\\execute.py\u001b[0m in \u001b[0;36mquick_execute\u001b[1;34m(op_name, num_outputs, inputs, attrs, ctx, name)\u001b[0m\n\u001b[0;32m     53\u001b[0m     \u001b[0mctx\u001b[0m\u001b[1;33m.\u001b[0m\u001b[0mensure_initialized\u001b[0m\u001b[1;33m(\u001b[0m\u001b[1;33m)\u001b[0m\u001b[1;33m\u001b[0m\u001b[1;33m\u001b[0m\u001b[0m\n\u001b[0;32m     54\u001b[0m     tensors = pywrap_tfe.TFE_Py_Execute(ctx._handle, device_name, op_name,\n\u001b[1;32m---> 55\u001b[1;33m                                         inputs, attrs, num_outputs)\n\u001b[0m\u001b[0;32m     56\u001b[0m   \u001b[1;32mexcept\u001b[0m \u001b[0mcore\u001b[0m\u001b[1;33m.\u001b[0m\u001b[0m_NotOkStatusException\u001b[0m \u001b[1;32mas\u001b[0m \u001b[0me\u001b[0m\u001b[1;33m:\u001b[0m\u001b[1;33m\u001b[0m\u001b[1;33m\u001b[0m\u001b[0m\n\u001b[0;32m     57\u001b[0m     \u001b[1;32mif\u001b[0m \u001b[0mname\u001b[0m \u001b[1;32mis\u001b[0m \u001b[1;32mnot\u001b[0m \u001b[1;32mNone\u001b[0m\u001b[1;33m:\u001b[0m\u001b[1;33m\u001b[0m\u001b[1;33m\u001b[0m\u001b[0m\n",
      "\u001b[1;31mKeyboardInterrupt\u001b[0m: "
     ]
    }
   ],
   "source": [
    "model.fit(X_train,y_train,epochs=400,batch_size=500, verbose=1,callbacks=[reduce_lr])"
   ]
  },
  {
   "cell_type": "code",
   "execution_count": null,
   "id": "db344905",
   "metadata": {},
   "outputs": [],
   "source": [
    "model.save(\"bayesian_model\")"
   ]
  },
  {
   "cell_type": "code",
   "execution_count": null,
   "id": "3990fbc6",
   "metadata": {},
   "outputs": [],
   "source": [
    "y_pred = model.predict(X_test)"
   ]
  },
  {
   "cell_type": "code",
   "execution_count": null,
   "id": "6d22120a",
   "metadata": {},
   "outputs": [],
   "source": [
    "y_pred"
   ]
  },
  {
   "cell_type": "code",
   "execution_count": null,
   "id": "0b68ba0f",
   "metadata": {},
   "outputs": [],
   "source": [
    "y_pred = model.predict(X_test)\n",
    "hervy_dist(y_pred, y_test)[\"Distance\"].mean()"
   ]
  }
 ],
 "metadata": {
  "kernelspec": {
   "display_name": "Python 3 (ipykernel)",
   "language": "python",
   "name": "python3"
  },
  "language_info": {
   "codemirror_mode": {
    "name": "ipython",
    "version": 3
   },
   "file_extension": ".py",
   "mimetype": "text/x-python",
   "name": "python",
   "nbconvert_exporter": "python",
   "pygments_lexer": "ipython3",
   "version": "3.7.11"
  }
 },
 "nbformat": 4,
 "nbformat_minor": 5
}
