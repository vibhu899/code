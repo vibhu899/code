{
 "cells": [
  {
   "cell_type": "code",
   "execution_count": 2,
   "id": "22af4907",
   "metadata": {},
   "outputs": [],
   "source": [
    "import pandas as pd\n",
    "import os"
   ]
  },
  {
   "cell_type": "code",
   "execution_count": 34,
   "id": "4f453600",
   "metadata": {},
   "outputs": [],
   "source": [
    "from utils import join_data, train_test,hervy_dist, outlier_removal, train_data"
   ]
  },
  {
   "cell_type": "code",
   "execution_count": 35,
   "id": "66ee49b8",
   "metadata": {},
   "outputs": [],
   "source": [
    "src_folder= os.path.join(os.getcwd(),\"Data\\cabspottingdata\")"
   ]
  },
  {
   "cell_type": "code",
   "execution_count": 36,
   "id": "bad4101b",
   "metadata": {},
   "outputs": [],
   "source": [
    "dst_folder = os.path.join(os.getcwd(),\"Processed_Data\")"
   ]
  },
  {
   "cell_type": "code",
   "execution_count": 37,
   "id": "922ae1ff",
   "metadata": {},
   "outputs": [
    {
     "data": {
      "text/plain": [
       "'C:\\\\Users\\\\Reset me please\\\\Desktop\\\\Vibhu_Assignment\\\\Processed_Data'"
      ]
     },
     "execution_count": 37,
     "metadata": {},
     "output_type": "execute_result"
    }
   ],
   "source": [
    "dst_folder"
   ]
  },
  {
   "cell_type": "code",
   "execution_count": 38,
   "id": "559aeb70",
   "metadata": {},
   "outputs": [],
   "source": [
    "arr = os.listdir(src_folder)"
   ]
  },
  {
   "cell_type": "code",
   "execution_count": 40,
   "id": "dc4f6f91",
   "metadata": {},
   "outputs": [],
   "source": [
    "for each in arr:\n",
    "    # print(each)\n",
    "    df1= pd.read_csv(os.path.join(src_folder,each), sep=\" \", header=None)\n",
    "    df = outlier_removal(df1)\n",
    "    df = train_data(df)\n",
    "    df.to_csv(os.path.join(dst_folder, each))"
   ]
  },
  {
   "cell_type": "code",
   "execution_count": null,
   "id": "03b9e5b1",
   "metadata": {},
   "outputs": [],
   "source": []
  }
 ],
 "metadata": {
  "kernelspec": {
   "display_name": "Python 3 (ipykernel)",
   "language": "python",
   "name": "python3"
  },
  "language_info": {
   "codemirror_mode": {
    "name": "ipython",
    "version": 3
   },
   "file_extension": ".py",
   "mimetype": "text/x-python",
   "name": "python",
   "nbconvert_exporter": "python",
   "pygments_lexer": "ipython3",
   "version": "3.7.11"
  }
 },
 "nbformat": 4,
 "nbformat_minor": 5
}
