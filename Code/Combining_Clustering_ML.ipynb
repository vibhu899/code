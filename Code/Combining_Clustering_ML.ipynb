{
 "cells": [
  {
   "cell_type": "code",
   "execution_count": 12,
   "id": "77082877",
   "metadata": {},
   "outputs": [],
   "source": [
    "import pandas as pd\n",
    "import pickle\n",
    "import os"
   ]
  },
  {
   "cell_type": "code",
   "execution_count": 13,
   "id": "df2c0d45",
   "metadata": {},
   "outputs": [],
   "source": [
    "from utils import haversine\n",
    "from utils import join_data, train_test,hervy_dist, minutes_convert, haversine,taxi_demand_cluster, predict_lat_long, plt_map"
   ]
  },
  {
   "cell_type": "code",
   "execution_count": 14,
   "id": "f9c9b5f4",
   "metadata": {},
   "outputs": [],
   "source": [
    "dst_folder = os.path.join(os.getcwd(),\"Processed_Data\")"
   ]
  },
  {
   "cell_type": "code",
   "execution_count": 15,
   "id": "d030b83b",
   "metadata": {},
   "outputs": [],
   "source": [
    "df = join_data(dst_folder)"
   ]
  },
  {
   "cell_type": "code",
   "execution_count": 16,
   "id": "581ac181",
   "metadata": {},
   "outputs": [],
   "source": [
    "df_model = pd.read_csv(\"Classical_ML_Models_test.csv\")"
   ]
  },
  {
   "cell_type": "code",
   "execution_count": 17,
   "id": "29c52668",
   "metadata": {},
   "outputs": [],
   "source": [
    "df_model.drop(\"Unnamed: 0\", axis=1, inplace=True)"
   ]
  },
  {
   "cell_type": "code",
   "execution_count": 18,
   "id": "cbdbc568",
   "metadata": {},
   "outputs": [],
   "source": [
    "df_model.sort_values(by= \"Score\", inplace=True)"
   ]
  },
  {
   "cell_type": "code",
   "execution_count": 19,
   "id": "b0733cd6",
   "metadata": {},
   "outputs": [
    {
     "data": {
      "text/html": [
       "<div>\n",
       "<style scoped>\n",
       "    .dataframe tbody tr th:only-of-type {\n",
       "        vertical-align: middle;\n",
       "    }\n",
       "\n",
       "    .dataframe tbody tr th {\n",
       "        vertical-align: top;\n",
       "    }\n",
       "\n",
       "    .dataframe thead th {\n",
       "        text-align: right;\n",
       "    }\n",
       "</style>\n",
       "<table border=\"1\" class=\"dataframe\">\n",
       "  <thead>\n",
       "    <tr style=\"text-align: right;\">\n",
       "      <th></th>\n",
       "      <th>Model</th>\n",
       "      <th>Score</th>\n",
       "      <th>File_name</th>\n",
       "    </tr>\n",
       "  </thead>\n",
       "  <tbody>\n",
       "    <tr>\n",
       "      <th>4</th>\n",
       "      <td>XGB</td>\n",
       "      <td>1890.300460</td>\n",
       "      <td>finalized_model_XGB.sav</td>\n",
       "    </tr>\n",
       "    <tr>\n",
       "      <th>3</th>\n",
       "      <td>Random_Forest</td>\n",
       "      <td>1897.904023</td>\n",
       "      <td>finalized_model_random_forest.sav</td>\n",
       "    </tr>\n",
       "    <tr>\n",
       "      <th>0</th>\n",
       "      <td>Linear_Regression</td>\n",
       "      <td>2240.509841</td>\n",
       "      <td>finalized_linear.sav</td>\n",
       "    </tr>\n",
       "    <tr>\n",
       "      <th>2</th>\n",
       "      <td>Decision_tree</td>\n",
       "      <td>2336.103194</td>\n",
       "      <td>finalized_model_decision_tree.sav</td>\n",
       "    </tr>\n",
       "    <tr>\n",
       "      <th>5</th>\n",
       "      <td>XGBF</td>\n",
       "      <td>2355.207638</td>\n",
       "      <td>finalized_model_random_forest.sav</td>\n",
       "    </tr>\n",
       "    <tr>\n",
       "      <th>1</th>\n",
       "      <td>KNN</td>\n",
       "      <td>2630.195285</td>\n",
       "      <td>finalized_model_knn.sav</td>\n",
       "    </tr>\n",
       "  </tbody>\n",
       "</table>\n",
       "</div>"
      ],
      "text/plain": [
       "               Model        Score                          File_name\n",
       "4                XGB  1890.300460            finalized_model_XGB.sav\n",
       "3      Random_Forest  1897.904023  finalized_model_random_forest.sav\n",
       "0  Linear_Regression  2240.509841               finalized_linear.sav\n",
       "2      Decision_tree  2336.103194  finalized_model_decision_tree.sav\n",
       "5               XGBF  2355.207638  finalized_model_random_forest.sav\n",
       "1                KNN  2630.195285            finalized_model_knn.sav"
      ]
     },
     "execution_count": 19,
     "metadata": {},
     "output_type": "execute_result"
    }
   ],
   "source": [
    "df_model"
   ]
  },
  {
   "cell_type": "code",
   "execution_count": 20,
   "id": "95c0fcbd",
   "metadata": {},
   "outputs": [],
   "source": [
    "filename = df_model.iloc[0][\"File_name\"]"
   ]
  },
  {
   "cell_type": "code",
   "execution_count": 43,
   "id": "26d1fc46",
   "metadata": {},
   "outputs": [],
   "source": [
    "df_test  = pd.read_csv(\"Test_Data.csv\")\n",
    "y_test = pd.read_csv(\"Y_Test.csv\")\n",
    "df_test= df_test.reset_index()\n",
    "y_test = y_test.reset_index()\n"
   ]
  },
  {
   "cell_type": "code",
   "execution_count": 44,
   "id": "d6d55305",
   "metadata": {},
   "outputs": [],
   "source": [
    "df_test= df_test.drop([\"index\",\"Unnamed: 0\"], axis=1)\n",
    "y_test= y_test.drop([\"index\",\"Unnamed: 0\"], axis=1)"
   ]
  },
  {
   "cell_type": "code",
   "execution_count": 12,
   "id": "b0434768",
   "metadata": {},
   "outputs": [],
   "source": [
    "df_test = df_test[:100]\n",
    "y_test = y_test[:100]"
   ]
  },
  {
   "cell_type": "code",
   "execution_count": 13,
   "id": "21a260be",
   "metadata": {},
   "outputs": [],
   "source": [
    "test_data = df_test.copy()"
   ]
  },
  {
   "cell_type": "code",
   "execution_count": 30,
   "id": "3e5a8d87",
   "metadata": {},
   "outputs": [],
   "source": [
    "model = pickle.load(open(filename, 'rb'))\n",
    "scaler = pickle.load(open('scaler.pkl','rb'))"
   ]
  },
  {
   "cell_type": "code",
   "execution_count": 17,
   "id": "814872c8",
   "metadata": {},
   "outputs": [],
   "source": [
    "def closest_prediction(df,df_test,model,index, scaler):\n",
    "#     df_test.drop(\"Unnamed: 0\",axis=1, inplace=True)\n",
    "    test_data = df_test.copy()\n",
    "    df_test[\"Latitude\"] = df_test[\"Latitude\"]/90\n",
    "    df_test[\"Longitude\"] = df_test[\"Longitude\"]/180\n",
    "    df_test[['Hour', 'Day', 'Minutes_Identifier']] = scaler.fit_transform(df_test[['Hour', 'Day', 'Minutes_Identifier']])\n",
    "    test_lat = df_test.iloc[[index]]\n",
    "    pred = model.predict(test_lat)\n",
    "#     print(pred)\n",
    "    distance_to_prediction = haversine(list(pred[0]),list(test_data[[\"Latitude\",\"Longitude\"]].iloc[[index]].values[0]))\n",
    "    df_cluster, df_centroids = taxi_demand_cluster(df,test_data.iloc[index][\"Hour\"], 0,test_data.iloc[index][\"Day\"], 300, 20)\n",
    "    dfc, df_label = predict_lat_long(list(test_data[[\"Latitude\",\"Longitude\"]].iloc[[0]].values[0]), df_centroids)\n",
    "    if dfc.empty:\n",
    "        prediciton = (pred[0][0],pred[0][1])\n",
    "    else:\n",
    "        if dfc.iloc[0][\"Distance\"] <=distance_to_prediction:\n",
    "            prediciton = (dfc[\"Latitude_1\"].iloc[0],dfc[\"Longitude_1\"].iloc[0])\n",
    "        else:\n",
    "            prediciton = (pred[0][0],pred[0][1])\n",
    "    return(prediciton)"
   ]
  },
  {
   "cell_type": "code",
   "execution_count": 53,
   "id": "bfdbbfd7",
   "metadata": {},
   "outputs": [],
   "source": [
    "predicitons=[]\n",
    "for each in range(df_test.shape[0]):\n",
    "    predicitons.append(closest_prediction(df.copy(),df_test.copy(), model, each, scaler))\n",
    "    print(each)"
   ]
  },
  {
   "cell_type": "code",
   "execution_count": 54,
   "id": "820edbef",
   "metadata": {},
   "outputs": [],
   "source": [
    "df_pred = pd.DataFrame(predicitons)"
   ]
  },
  {
   "cell_type": "code",
   "execution_count": 31,
   "id": "90f46079",
   "metadata": {},
   "outputs": [],
   "source": [
    "df_pred.columns =[\"Latitude_pre\", \"Longitude_pre\"]"
   ]
  },
  {
   "cell_type": "code",
   "execution_count": 26,
   "id": "95a36c79",
   "metadata": {},
   "outputs": [],
   "source": [
    "df_final = pd.concat([df_test, y_test], axis=1)"
   ]
  },
  {
   "cell_type": "code",
   "execution_count": null,
   "id": "c0933e9b",
   "metadata": {},
   "outputs": [],
   "source": []
  }
 ],
 "metadata": {
  "kernelspec": {
   "display_name": "Python 3 (ipykernel)",
   "language": "python",
   "name": "python3"
  },
  "language_info": {
   "codemirror_mode": {
    "name": "ipython",
    "version": 3
   },
   "file_extension": ".py",
   "mimetype": "text/x-python",
   "name": "python",
   "nbconvert_exporter": "python",
   "pygments_lexer": "ipython3",
   "version": "3.7.11"
  }
 },
 "nbformat": 4,
 "nbformat_minor": 5
}
