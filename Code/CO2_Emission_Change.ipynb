{
 "cells": [
  {
   "cell_type": "code",
   "execution_count": 1,
   "id": "0dec2471",
   "metadata": {},
   "outputs": [],
   "source": [
    "import pandas as pd\n",
    "import pickle\n",
    "import os"
   ]
  },
  {
   "cell_type": "code",
   "execution_count": 2,
   "id": "93fc11ba",
   "metadata": {},
   "outputs": [],
   "source": [
    "from utils import haversine\n",
    "from utils import join_data, train_test,hervy_dist, minutes_convert, haversine,taxi_demand_cluster, predict_lat_long, plt_map"
   ]
  },
  {
   "cell_type": "code",
   "execution_count": 3,
   "id": "d584cef9",
   "metadata": {},
   "outputs": [],
   "source": [
    "df_model = pd.read_csv(\"Classical_ML_Models_test.csv\")"
   ]
  },
  {
   "cell_type": "code",
   "execution_count": 4,
   "id": "a61c9126",
   "metadata": {},
   "outputs": [],
   "source": [
    "df_model = pd.read_csv(\"Classical_ML_Models_test.csv\")"
   ]
  },
  {
   "cell_type": "code",
   "execution_count": 5,
   "id": "70d76218",
   "metadata": {},
   "outputs": [],
   "source": [
    "df_model.drop(\"Unnamed: 0\", axis=1, inplace=True)"
   ]
  },
  {
   "cell_type": "code",
   "execution_count": 6,
   "id": "7ddd6c65",
   "metadata": {},
   "outputs": [],
   "source": [
    "df_model.sort_values(by= \"Score\", inplace=True)"
   ]
  },
  {
   "cell_type": "code",
   "execution_count": 7,
   "id": "adb69157",
   "metadata": {},
   "outputs": [],
   "source": [
    "filename = df_model.iloc[0][\"File_name\"]"
   ]
  },
  {
   "cell_type": "code",
   "execution_count": 8,
   "id": "01b1889b",
   "metadata": {},
   "outputs": [],
   "source": [
    "model = pickle.load(open(filename, 'rb'))\n",
    "scaler = pickle.load(open('scaler.pkl','rb'))"
   ]
  },
  {
   "cell_type": "code",
   "execution_count": 9,
   "id": "03d129a7",
   "metadata": {},
   "outputs": [],
   "source": [
    "df_test  = pd.read_csv(\"Test_Data.csv\")\n",
    "y_test = pd.read_csv(\"Y_Test.csv\")\n",
    "df_test= df_test.reset_index()\n",
    "y_test = y_test.reset_index()\n",
    "df_test= df_test.drop([\"index\",\"Unnamed: 0\"], axis=1)\n",
    "y_test= y_test.drop([\"index\",\"Unnamed: 0\"], axis=1)"
   ]
  },
  {
   "cell_type": "code",
   "execution_count": 10,
   "id": "78fa1cc5",
   "metadata": {},
   "outputs": [],
   "source": [
    "df_final = pd.concat([df_test, y_test], axis=1)"
   ]
  },
  {
   "cell_type": "code",
   "execution_count": 11,
   "id": "45ab6085",
   "metadata": {},
   "outputs": [
    {
     "data": {
      "text/html": [
       "<div>\n",
       "<style scoped>\n",
       "    .dataframe tbody tr th:only-of-type {\n",
       "        vertical-align: middle;\n",
       "    }\n",
       "\n",
       "    .dataframe tbody tr th {\n",
       "        vertical-align: top;\n",
       "    }\n",
       "\n",
       "    .dataframe thead th {\n",
       "        text-align: right;\n",
       "    }\n",
       "</style>\n",
       "<table border=\"1\" class=\"dataframe\">\n",
       "  <thead>\n",
       "    <tr style=\"text-align: right;\">\n",
       "      <th></th>\n",
       "      <th>Latitude</th>\n",
       "      <th>Longitude</th>\n",
       "      <th>Hour</th>\n",
       "      <th>Day</th>\n",
       "      <th>Minutes_Identifier</th>\n",
       "      <th>Latitude_1</th>\n",
       "      <th>Longitude_1</th>\n",
       "    </tr>\n",
       "  </thead>\n",
       "  <tbody>\n",
       "    <tr>\n",
       "      <th>0</th>\n",
       "      <td>37.78762</td>\n",
       "      <td>-122.41186</td>\n",
       "      <td>5</td>\n",
       "      <td>6</td>\n",
       "      <td>3</td>\n",
       "      <td>37.78777</td>\n",
       "      <td>-122.41206</td>\n",
       "    </tr>\n",
       "    <tr>\n",
       "      <th>1</th>\n",
       "      <td>37.92079</td>\n",
       "      <td>-122.31416</td>\n",
       "      <td>10</td>\n",
       "      <td>5</td>\n",
       "      <td>2</td>\n",
       "      <td>37.79251</td>\n",
       "      <td>-122.42040</td>\n",
       "    </tr>\n",
       "    <tr>\n",
       "      <th>2</th>\n",
       "      <td>37.73439</td>\n",
       "      <td>-122.38998</td>\n",
       "      <td>9</td>\n",
       "      <td>6</td>\n",
       "      <td>3</td>\n",
       "      <td>37.75002</td>\n",
       "      <td>-122.38753</td>\n",
       "    </tr>\n",
       "    <tr>\n",
       "      <th>3</th>\n",
       "      <td>37.76616</td>\n",
       "      <td>-122.41053</td>\n",
       "      <td>19</td>\n",
       "      <td>6</td>\n",
       "      <td>1</td>\n",
       "      <td>37.78235</td>\n",
       "      <td>-122.41009</td>\n",
       "    </tr>\n",
       "    <tr>\n",
       "      <th>4</th>\n",
       "      <td>37.77492</td>\n",
       "      <td>-122.41233</td>\n",
       "      <td>9</td>\n",
       "      <td>6</td>\n",
       "      <td>3</td>\n",
       "      <td>37.77773</td>\n",
       "      <td>-122.41982</td>\n",
       "    </tr>\n",
       "    <tr>\n",
       "      <th>...</th>\n",
       "      <td>...</td>\n",
       "      <td>...</td>\n",
       "      <td>...</td>\n",
       "      <td>...</td>\n",
       "      <td>...</td>\n",
       "      <td>...</td>\n",
       "      <td>...</td>\n",
       "    </tr>\n",
       "    <tr>\n",
       "      <th>45644</th>\n",
       "      <td>37.77576</td>\n",
       "      <td>-122.43211</td>\n",
       "      <td>9</td>\n",
       "      <td>6</td>\n",
       "      <td>3</td>\n",
       "      <td>37.78714</td>\n",
       "      <td>-122.42007</td>\n",
       "    </tr>\n",
       "    <tr>\n",
       "      <th>45645</th>\n",
       "      <td>37.78824</td>\n",
       "      <td>-122.41228</td>\n",
       "      <td>6</td>\n",
       "      <td>6</td>\n",
       "      <td>3</td>\n",
       "      <td>37.78593</td>\n",
       "      <td>-122.40692</td>\n",
       "    </tr>\n",
       "    <tr>\n",
       "      <th>45646</th>\n",
       "      <td>37.76614</td>\n",
       "      <td>-122.43111</td>\n",
       "      <td>1</td>\n",
       "      <td>2</td>\n",
       "      <td>2</td>\n",
       "      <td>37.76094</td>\n",
       "      <td>-122.43473</td>\n",
       "    </tr>\n",
       "    <tr>\n",
       "      <th>45647</th>\n",
       "      <td>37.77065</td>\n",
       "      <td>-122.44709</td>\n",
       "      <td>19</td>\n",
       "      <td>2</td>\n",
       "      <td>3</td>\n",
       "      <td>37.76952</td>\n",
       "      <td>-122.45067</td>\n",
       "    </tr>\n",
       "    <tr>\n",
       "      <th>45648</th>\n",
       "      <td>37.77773</td>\n",
       "      <td>-122.42488</td>\n",
       "      <td>1</td>\n",
       "      <td>3</td>\n",
       "      <td>1</td>\n",
       "      <td>37.78684</td>\n",
       "      <td>-122.40613</td>\n",
       "    </tr>\n",
       "  </tbody>\n",
       "</table>\n",
       "<p>45649 rows × 7 columns</p>\n",
       "</div>"
      ],
      "text/plain": [
       "       Latitude  Longitude  Hour  Day  Minutes_Identifier  Latitude_1  \\\n",
       "0      37.78762 -122.41186     5    6                   3    37.78777   \n",
       "1      37.92079 -122.31416    10    5                   2    37.79251   \n",
       "2      37.73439 -122.38998     9    6                   3    37.75002   \n",
       "3      37.76616 -122.41053    19    6                   1    37.78235   \n",
       "4      37.77492 -122.41233     9    6                   3    37.77773   \n",
       "...         ...        ...   ...  ...                 ...         ...   \n",
       "45644  37.77576 -122.43211     9    6                   3    37.78714   \n",
       "45645  37.78824 -122.41228     6    6                   3    37.78593   \n",
       "45646  37.76614 -122.43111     1    2                   2    37.76094   \n",
       "45647  37.77065 -122.44709    19    2                   3    37.76952   \n",
       "45648  37.77773 -122.42488     1    3                   1    37.78684   \n",
       "\n",
       "       Longitude_1  \n",
       "0       -122.41206  \n",
       "1       -122.42040  \n",
       "2       -122.38753  \n",
       "3       -122.41009  \n",
       "4       -122.41982  \n",
       "...            ...  \n",
       "45644   -122.42007  \n",
       "45645   -122.40692  \n",
       "45646   -122.43473  \n",
       "45647   -122.45067  \n",
       "45648   -122.40613  \n",
       "\n",
       "[45649 rows x 7 columns]"
      ]
     },
     "execution_count": 11,
     "metadata": {},
     "output_type": "execute_result"
    }
   ],
   "source": [
    "df_final"
   ]
  },
  {
   "cell_type": "code",
   "execution_count": 12,
   "id": "163ccc88",
   "metadata": {},
   "outputs": [],
   "source": [
    "df_final[\"Distance\"]=df_final.apply(lambda x : haversine([x.Latitude, x.Longitude ], [x.Latitude_1, x.Longitude_1]), axis=1)"
   ]
  },
  {
   "cell_type": "code",
   "execution_count": 32,
   "id": "5083aa41",
   "metadata": {},
   "outputs": [],
   "source": [
    "total_distance = df_final[\"Distance\"].sum()/1000\n",
    "total_distance = total_distance/1.6"
   ]
  },
  {
   "cell_type": "code",
   "execution_count": 14,
   "id": "edb5a578",
   "metadata": {},
   "outputs": [],
   "source": [
    "df_test[\"Latitude\"] = df_test[\"Latitude\"]/90\n",
    "df_test[\"Longitude\"] = df_test[\"Longitude\"]/180\n",
    "df_test[['Hour', 'Day', 'Minutes_Identifier']] = scaler.fit_transform(df_test[['Hour', 'Day', 'Minutes_Identifier']])"
   ]
  },
  {
   "cell_type": "code",
   "execution_count": 15,
   "id": "0038772a",
   "metadata": {},
   "outputs": [],
   "source": [
    "df_pre = model.predict(df_test)"
   ]
  },
  {
   "cell_type": "code",
   "execution_count": 16,
   "id": "85e45313",
   "metadata": {},
   "outputs": [],
   "source": [
    "df_pre=pd.DataFrame(df_pre)\n",
    "df_pre.columns =[\"Latitude_pre\",\"Longitude_pre\"]"
   ]
  },
  {
   "cell_type": "code",
   "execution_count": 17,
   "id": "5bd2b313",
   "metadata": {},
   "outputs": [],
   "source": [
    "df_final = pd.concat([df_final, df_pre], axis=1)"
   ]
  },
  {
   "cell_type": "code",
   "execution_count": 18,
   "id": "ca888ad0",
   "metadata": {},
   "outputs": [
    {
     "data": {
      "text/html": [
       "<div>\n",
       "<style scoped>\n",
       "    .dataframe tbody tr th:only-of-type {\n",
       "        vertical-align: middle;\n",
       "    }\n",
       "\n",
       "    .dataframe tbody tr th {\n",
       "        vertical-align: top;\n",
       "    }\n",
       "\n",
       "    .dataframe thead th {\n",
       "        text-align: right;\n",
       "    }\n",
       "</style>\n",
       "<table border=\"1\" class=\"dataframe\">\n",
       "  <thead>\n",
       "    <tr style=\"text-align: right;\">\n",
       "      <th></th>\n",
       "      <th>Latitude</th>\n",
       "      <th>Longitude</th>\n",
       "      <th>Hour</th>\n",
       "      <th>Day</th>\n",
       "      <th>Minutes_Identifier</th>\n",
       "      <th>Latitude_1</th>\n",
       "      <th>Longitude_1</th>\n",
       "      <th>Distance</th>\n",
       "      <th>Latitude_pre</th>\n",
       "      <th>Longitude_pre</th>\n",
       "    </tr>\n",
       "  </thead>\n",
       "  <tbody>\n",
       "    <tr>\n",
       "      <th>0</th>\n",
       "      <td>37.78762</td>\n",
       "      <td>-122.41186</td>\n",
       "      <td>5</td>\n",
       "      <td>6</td>\n",
       "      <td>3</td>\n",
       "      <td>37.78777</td>\n",
       "      <td>-122.41206</td>\n",
       "      <td>24.229810</td>\n",
       "      <td>37.787411</td>\n",
       "      <td>-122.411537</td>\n",
       "    </tr>\n",
       "    <tr>\n",
       "      <th>1</th>\n",
       "      <td>37.92079</td>\n",
       "      <td>-122.31416</td>\n",
       "      <td>10</td>\n",
       "      <td>5</td>\n",
       "      <td>2</td>\n",
       "      <td>37.79251</td>\n",
       "      <td>-122.42040</td>\n",
       "      <td>17042.914253</td>\n",
       "      <td>37.775146</td>\n",
       "      <td>-122.410042</td>\n",
       "    </tr>\n",
       "    <tr>\n",
       "      <th>2</th>\n",
       "      <td>37.73439</td>\n",
       "      <td>-122.38998</td>\n",
       "      <td>9</td>\n",
       "      <td>6</td>\n",
       "      <td>3</td>\n",
       "      <td>37.75002</td>\n",
       "      <td>-122.38753</td>\n",
       "      <td>1751.277358</td>\n",
       "      <td>37.759140</td>\n",
       "      <td>-122.407852</td>\n",
       "    </tr>\n",
       "    <tr>\n",
       "      <th>3</th>\n",
       "      <td>37.76616</td>\n",
       "      <td>-122.41053</td>\n",
       "      <td>19</td>\n",
       "      <td>6</td>\n",
       "      <td>1</td>\n",
       "      <td>37.78235</td>\n",
       "      <td>-122.41009</td>\n",
       "      <td>1800.661190</td>\n",
       "      <td>37.764759</td>\n",
       "      <td>-122.411346</td>\n",
       "    </tr>\n",
       "    <tr>\n",
       "      <th>4</th>\n",
       "      <td>37.77492</td>\n",
       "      <td>-122.41233</td>\n",
       "      <td>9</td>\n",
       "      <td>6</td>\n",
       "      <td>3</td>\n",
       "      <td>37.77773</td>\n",
       "      <td>-122.41982</td>\n",
       "      <td>728.682031</td>\n",
       "      <td>37.775784</td>\n",
       "      <td>-122.412689</td>\n",
       "    </tr>\n",
       "    <tr>\n",
       "      <th>...</th>\n",
       "      <td>...</td>\n",
       "      <td>...</td>\n",
       "      <td>...</td>\n",
       "      <td>...</td>\n",
       "      <td>...</td>\n",
       "      <td>...</td>\n",
       "      <td>...</td>\n",
       "      <td>...</td>\n",
       "      <td>...</td>\n",
       "      <td>...</td>\n",
       "    </tr>\n",
       "    <tr>\n",
       "      <th>45644</th>\n",
       "      <td>37.77576</td>\n",
       "      <td>-122.43211</td>\n",
       "      <td>9</td>\n",
       "      <td>6</td>\n",
       "      <td>3</td>\n",
       "      <td>37.78714</td>\n",
       "      <td>-122.42007</td>\n",
       "      <td>1649.496797</td>\n",
       "      <td>37.774273</td>\n",
       "      <td>-122.429398</td>\n",
       "    </tr>\n",
       "    <tr>\n",
       "      <th>45645</th>\n",
       "      <td>37.78824</td>\n",
       "      <td>-122.41228</td>\n",
       "      <td>6</td>\n",
       "      <td>6</td>\n",
       "      <td>3</td>\n",
       "      <td>37.78593</td>\n",
       "      <td>-122.40692</td>\n",
       "      <td>536.503164</td>\n",
       "      <td>37.787857</td>\n",
       "      <td>-122.411354</td>\n",
       "    </tr>\n",
       "    <tr>\n",
       "      <th>45646</th>\n",
       "      <td>37.76614</td>\n",
       "      <td>-122.43111</td>\n",
       "      <td>1</td>\n",
       "      <td>2</td>\n",
       "      <td>2</td>\n",
       "      <td>37.76094</td>\n",
       "      <td>-122.43473</td>\n",
       "      <td>659.993565</td>\n",
       "      <td>37.768902</td>\n",
       "      <td>-122.422958</td>\n",
       "    </tr>\n",
       "    <tr>\n",
       "      <th>45647</th>\n",
       "      <td>37.77065</td>\n",
       "      <td>-122.44709</td>\n",
       "      <td>19</td>\n",
       "      <td>2</td>\n",
       "      <td>3</td>\n",
       "      <td>37.76952</td>\n",
       "      <td>-122.45067</td>\n",
       "      <td>338.829663</td>\n",
       "      <td>37.770218</td>\n",
       "      <td>-122.440773</td>\n",
       "    </tr>\n",
       "    <tr>\n",
       "      <th>45648</th>\n",
       "      <td>37.77773</td>\n",
       "      <td>-122.42488</td>\n",
       "      <td>1</td>\n",
       "      <td>3</td>\n",
       "      <td>1</td>\n",
       "      <td>37.78684</td>\n",
       "      <td>-122.40613</td>\n",
       "      <td>1934.260093</td>\n",
       "      <td>37.778500</td>\n",
       "      <td>-122.417862</td>\n",
       "    </tr>\n",
       "  </tbody>\n",
       "</table>\n",
       "<p>45649 rows × 10 columns</p>\n",
       "</div>"
      ],
      "text/plain": [
       "       Latitude  Longitude  Hour  Day  Minutes_Identifier  Latitude_1  \\\n",
       "0      37.78762 -122.41186     5    6                   3    37.78777   \n",
       "1      37.92079 -122.31416    10    5                   2    37.79251   \n",
       "2      37.73439 -122.38998     9    6                   3    37.75002   \n",
       "3      37.76616 -122.41053    19    6                   1    37.78235   \n",
       "4      37.77492 -122.41233     9    6                   3    37.77773   \n",
       "...         ...        ...   ...  ...                 ...         ...   \n",
       "45644  37.77576 -122.43211     9    6                   3    37.78714   \n",
       "45645  37.78824 -122.41228     6    6                   3    37.78593   \n",
       "45646  37.76614 -122.43111     1    2                   2    37.76094   \n",
       "45647  37.77065 -122.44709    19    2                   3    37.76952   \n",
       "45648  37.77773 -122.42488     1    3                   1    37.78684   \n",
       "\n",
       "       Longitude_1      Distance  Latitude_pre  Longitude_pre  \n",
       "0       -122.41206     24.229810     37.787411    -122.411537  \n",
       "1       -122.42040  17042.914253     37.775146    -122.410042  \n",
       "2       -122.38753   1751.277358     37.759140    -122.407852  \n",
       "3       -122.41009   1800.661190     37.764759    -122.411346  \n",
       "4       -122.41982    728.682031     37.775784    -122.412689  \n",
       "...            ...           ...           ...            ...  \n",
       "45644   -122.42007   1649.496797     37.774273    -122.429398  \n",
       "45645   -122.40692    536.503164     37.787857    -122.411354  \n",
       "45646   -122.43473    659.993565     37.768902    -122.422958  \n",
       "45647   -122.45067    338.829663     37.770218    -122.440773  \n",
       "45648   -122.40613   1934.260093     37.778500    -122.417862  \n",
       "\n",
       "[45649 rows x 10 columns]"
      ]
     },
     "execution_count": 18,
     "metadata": {},
     "output_type": "execute_result"
    }
   ],
   "source": [
    "df_final"
   ]
  },
  {
   "cell_type": "code",
   "execution_count": 19,
   "id": "653d8d46",
   "metadata": {},
   "outputs": [],
   "source": [
    "df_final[\"Distance_Pred\"]=df_final.apply(lambda x : haversine([x.Latitude, x.Longitude ], [x.Latitude_pre, x.Longitude_pre]), axis=1)"
   ]
  },
  {
   "cell_type": "code",
   "execution_count": 33,
   "id": "ad7b639d",
   "metadata": {},
   "outputs": [],
   "source": [
    "total_pred_distance = df_final[\"Distance_Pred\"].sum()/1000\n",
    "total_pred_distance = total_pred_distance/1.6"
   ]
  },
  {
   "cell_type": "code",
   "execution_count": 34,
   "id": "44f2ffd1",
   "metadata": {},
   "outputs": [
    {
     "data": {
      "text/plain": [
       "0.31204806667367824"
      ]
     },
     "execution_count": 34,
     "metadata": {},
     "output_type": "execute_result"
    }
   ],
   "source": [
    "1- total_pred_distance/total_distance"
   ]
  },
  {
   "cell_type": "code",
   "execution_count": 41,
   "id": "fafcc077",
   "metadata": {},
   "outputs": [
    {
     "data": {
      "text/plain": [
       "19070223.694537964"
      ]
     },
     "execution_count": 41,
     "metadata": {},
     "output_type": "execute_result"
    }
   ],
   "source": [
    "total_pred_distance*404"
   ]
  },
  {
   "cell_type": "code",
   "execution_count": 37,
   "id": "0de614f8",
   "metadata": {},
   "outputs": [
    {
     "data": {
      "text/plain": [
       "27720285.05295621"
      ]
     },
     "execution_count": 37,
     "metadata": {},
     "output_type": "execute_result"
    }
   ],
   "source": [
    "total_distance*404"
   ]
  },
  {
   "cell_type": "code",
   "execution_count": null,
   "id": "d147b9a0",
   "metadata": {},
   "outputs": [],
   "source": []
  }
 ],
 "metadata": {
  "kernelspec": {
   "display_name": "Python 3 (ipykernel)",
   "language": "python",
   "name": "python3"
  },
  "language_info": {
   "codemirror_mode": {
    "name": "ipython",
    "version": 3
   },
   "file_extension": ".py",
   "mimetype": "text/x-python",
   "name": "python",
   "nbconvert_exporter": "python",
   "pygments_lexer": "ipython3",
   "version": "3.7.11"
  }
 },
 "nbformat": 4,
 "nbformat_minor": 5
}
